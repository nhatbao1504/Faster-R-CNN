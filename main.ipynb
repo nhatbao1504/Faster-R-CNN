{
 "cells": [
  {
   "cell_type": "code",
   "execution_count": 6,
   "metadata": {},
   "outputs": [
    {
     "name": "stdout",
     "output_type": "stream",
     "text": [
      "<class 'numpy.ndarray'>\n",
      "<class 'torch.Tensor'>\n"
     ]
    },
    {
     "data": {
      "text/plain": [
       "-1"
      ]
     },
     "execution_count": 6,
     "metadata": {},
     "output_type": "execute_result"
    }
   ],
   "source": [
    "import torch\n",
    "import cvzone\n",
    "import cv2\n",
    "from torchvision import transforms\n",
    "import torchvision\n",
    "\n",
    "model = torchvision.models.detection.fasterrcnn_resnet50_fpn(pretrained = True)\n",
    "model.eval()\n",
    "\n",
    "classnames = []\n",
    "with open('classes.txt','r') as f:\n",
    "    classnames = f.read().splitlines()\n",
    "\n",
    "#print(classnames)\n",
    "image = cv2.imread('room.jpg')\n",
    "image = cv2.resize(image,(640,480))\n",
    "\n",
    "image_transform = transforms.ToTensor()\n",
    "img = image_transform(image)\n",
    "print(type(image))\n",
    "print(type(img))\n",
    "\n",
    "with torch.no_grad():\n",
    "    pred = model([img])\n",
    "    #print(pred)\n",
    "    #print(pred[0].keys())\n",
    "\n",
    "    bbox,scores,labels = pred[0]['boxes'],pred[0]['scores'],pred[0]['labels']\n",
    "    conf = torch.argwhere(scores > 0.70).shape[0]\n",
    "    for i in range(conf):\n",
    "        x,y,w,h = bbox[i].numpy().astype('int')\n",
    "        classname = labels[i].numpy().astype('int')\n",
    "        class_detected = classnames[classname]\n",
    "        cv2.rectangle(image,(x,y),(w,h),(0,0,255),4)\n",
    "        cvzone.putTextRect(image,class_detected,[x+8,y-12],scale=2,border=2)\n",
    "        cv2.imwrite('data1.png',image)\n",
    "\n",
    "\n",
    "cv2.imshow('frame',image)\n",
    "cv2.waitKey(0)\n"
   ]
  }
 ],
 "metadata": {
  "kernelspec": {
   "display_name": "Python 3",
   "language": "python",
   "name": "python3"
  },
  "language_info": {
   "codemirror_mode": {
    "name": "ipython",
    "version": 3
   },
   "file_extension": ".py",
   "mimetype": "text/x-python",
   "name": "python",
   "nbconvert_exporter": "python",
   "pygments_lexer": "ipython3",
   "version": "3.11.9"
  }
 },
 "nbformat": 4,
 "nbformat_minor": 2
}
